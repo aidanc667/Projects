{
 "cells": [
  {
   "cell_type": "code",
   "execution_count": 21,
   "id": "c34505f0-0bcf-4cc4-a1a7-3b384d39185e",
   "metadata": {},
   "outputs": [
    {
     "data": {
      "application/vnd.jupyter.widget-view+json": {
       "model_id": "a29596e010934164a637cb7b56190b49",
       "version_major": 2,
       "version_minor": 0
      },
      "text/plain": [
       "Text(value='', description='🔗 URL:', layout=Layout(width='80%'), placeholder='Enter YouTube video URL')"
      ]
     },
     "metadata": {},
     "output_type": "display_data"
    },
    {
     "data": {
      "application/vnd.jupyter.widget-view+json": {
       "model_id": "bccd351082e145d4bda84e196a49aa0d",
       "version_major": 2,
       "version_minor": 0
      },
      "text/plain": [
       "Button(button_style='primary', description='Load Video', icon='download', style=ButtonStyle(), tooltip='Click …"
      ]
     },
     "metadata": {},
     "output_type": "display_data"
    },
    {
     "data": {
      "application/vnd.jupyter.widget-view+json": {
       "model_id": "d3c9be7ac8984cd38edc665bf7b29624",
       "version_major": 2,
       "version_minor": 0
      },
      "text/plain": [
       "Output()"
      ]
     },
     "metadata": {},
     "output_type": "display_data"
    },
    {
     "data": {
      "application/vnd.jupyter.widget-view+json": {
       "model_id": "1b20ac355437478cbe824322ed2c409a",
       "version_major": 2,
       "version_minor": 0
      },
      "text/plain": [
       "Text(value='', description='🧐 Q:', layout=Layout(width='80%'), placeholder='Ask a question...')"
      ]
     },
     "metadata": {},
     "output_type": "display_data"
    },
    {
     "data": {
      "application/vnd.jupyter.widget-view+json": {
       "model_id": "e89ce0ebf9df4d3dba329f61585576a3",
       "version_major": 2,
       "version_minor": 0
      },
      "text/plain": [
       "Button(button_style='success', description='Ask 🤖', icon='search', style=ButtonStyle(), tooltip='Click to ask …"
      ]
     },
     "metadata": {},
     "output_type": "display_data"
    }
   ],
   "source": [
    "import google.generativeai as genai\n",
    "import re\n",
    "import ipywidgets as widgets\n",
    "from IPython.display import display, Markdown, clear_output\n",
    "from youtube_transcript_api import YouTubeTranscriptApi\n",
    "\n",
    "\n",
    "GENAI_API_KEY = \"a\"\n",
    "genai.configure(api_key=GENAI_API_KEY)\n",
    "\n",
    "\n",
    "def extract_video_id(url):\n",
    "    match = re.search(r\"(?:v=|youtu\\.be/|embed/|shorts/|v/)([a-zA-Z0-9_-]{11})\", url)\n",
    "    return match.group(1) if match else None\n",
    "\n",
    "\n",
    "def get_video_transcript(video_id):\n",
    "    try:\n",
    "        transcript = YouTubeTranscriptApi.get_transcript(video_id)\n",
    "        return \" \".join([t[\"text\"] for t in transcript])\n",
    "    except Exception as e:\n",
    "        return f\"Error fetching transcript: {str(e)}\"\n",
    "\n",
    "\n",
    "def ask_question(transcript, question):\n",
    "    model = genai.GenerativeModel(\"gemini-pro\")\n",
    "    response = model.generate_content(f\"Based on this transcript, answer the following question:\\n\\n{transcript}\\n\\nQuestion: {question}\")\n",
    "\n",
    "    if not response.text or \"I'm sorry\" in response.text or len(response.text.split()) < 5:\n",
    "        return \"❌ This video does not seem to contain that information.\"\n",
    "\n",
    "    return response.text\n",
    "\n",
    "\n",
    "class YouTubeChatbot:\n",
    "    def __init__(self):\n",
    "        self.transcript = None \n",
    "        self.video_url = \"\"\n",
    "\n",
    "        # UI Elements\n",
    "        self.video_url_widget = widgets.Text(\n",
    "            value=\"\",\n",
    "            placeholder=\"Enter YouTube video URL\",\n",
    "            description=\"🔗 URL:\",\n",
    "            layout=widgets.Layout(width=\"80%\"),\n",
    "        )\n",
    "\n",
    "        self.load_button = widgets.Button(\n",
    "            description=\"Load Video\",\n",
    "            button_style=\"primary\",\n",
    "            tooltip=\"Click to fetch transcript\",\n",
    "            icon=\"download\",\n",
    "        )\n",
    "\n",
    "        self.question_widget = widgets.Text(\n",
    "            value=\"\",\n",
    "            placeholder=\"Ask a question...\",\n",
    "            description=\"🧐 Q:\",\n",
    "            layout=widgets.Layout(width=\"80%\"),\n",
    "        )\n",
    "\n",
    "        self.ask_button = widgets.Button(\n",
    "            description=\"Ask 🤖\",\n",
    "            button_style=\"success\",\n",
    "            tooltip=\"Click to ask a question\",\n",
    "            icon=\"search\",\n",
    "        )\n",
    "\n",
    "        self.output = widgets.Output()\n",
    "\n",
    "\n",
    "        self.load_button.on_click(self.load_video)\n",
    "        self.ask_button.on_click(self.ask_question)\n",
    "\n",
    "\n",
    "        display(self.video_url_widget, self.load_button, self.output, self.question_widget, self.ask_button)\n",
    "\n",
    "    def load_video(self, b):\n",
    "        with self.output:\n",
    "            clear_output()\n",
    "            self.video_url = self.video_url_widget.value.strip()\n",
    "            video_id = extract_video_id(self.video_url)\n",
    "\n",
    "            if not video_id:\n",
    "                display(Markdown(\"❌ **Invalid YouTube URL.** Please enter a valid link.\"))\n",
    "                return\n",
    "\n",
    "            display(Markdown(\"📥 **Fetching transcript...**\"))\n",
    "            self.transcript = get_video_transcript(video_id)\n",
    "\n",
    "            if \"Error\" in self.transcript:\n",
    "                display(Markdown(f\"❌ {self.transcript}\"))\n",
    "                return\n",
    "\n",
    "            display(Markdown(\"✅ **Transcript loaded! You can now ask questions.**\"))\n",
    "\n",
    "    def ask_question(self, b):\n",
    "        if not self.transcript:\n",
    "            with self.output:\n",
    "                display(Markdown(\"❌ **Please load a video first!**\"))\n",
    "            return\n",
    "\n",
    "        question = self.question_widget.value.strip()\n",
    "        if not question:\n",
    "            with self.output:\n",
    "                display(Markdown(\"❌ **Please enter a question!**\"))\n",
    "            return\n",
    "\n",
    "        with self.output:\n",
    "            display(Markdown(f\"**🧐 You asked:** {question}\"))\n",
    "            display(Markdown(\"🤖 **Thinking...**\"))\n",
    "\n",
    "            answer = ask_question(self.transcript, question)\n",
    "            display(Markdown(f\"💡 **Answer:**\\n\\n{answer}\"))\n",
    "\n",
    "\n",
    "        self.question_widget.value = \"\"\n",
    "\n",
    "\n",
    "chatbot = YouTubeChatbot()\n"
   ]
  }
 ],
 "metadata": {
  "kernelspec": {
   "display_name": "Python 3 (ipykernel)",
   "language": "python",
   "name": "python3"
  },
  "language_info": {
   "codemirror_mode": {
    "name": "ipython",
    "version": 3
   },
   "file_extension": ".py",
   "mimetype": "text/x-python",
   "name": "python",
   "nbconvert_exporter": "python",
   "pygments_lexer": "ipython3",
   "version": "3.9.19"
  }
 },
 "nbformat": 4,
 "nbformat_minor": 5
}
