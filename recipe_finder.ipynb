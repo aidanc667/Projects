{
 "cells": [
  {
   "cell_type": "code",
   "execution_count": 6,
   "id": "ea478252-9496-48a6-a501-f25e1816a7ad",
   "metadata": {},
   "outputs": [
    {
     "data": {
      "text/html": [
       "<h1>Recipe Finder</h1>"
      ],
      "text/plain": [
       "<IPython.core.display.HTML object>"
      ]
     },
     "metadata": {},
     "output_type": "display_data"
    },
    {
     "data": {
      "application/vnd.jupyter.widget-view+json": {
       "model_id": "453139b52e9948e1b99b66a53f71d439",
       "version_major": 2,
       "version_minor": 0
      },
      "text/plain": [
       "VBox(children=(Text(value='', description='Ingredients:', layout=Layout(width='100%'), placeholder='e.g., chic…"
      ]
     },
     "metadata": {},
     "output_type": "display_data"
    }
   ],
   "source": [
    "import httpx\n",
    "import pandas as pd\n",
    "from IPython.display import display, HTML\n",
    "from ipywidgets import widgets, VBox\n",
    "\n",
    "\n",
    "def fetch_recipes_from_api(ingredients):\n",
    "    \"\"\"Fetch recipes using the Spoonacular API.\"\"\"\n",
    "    api_key = \"ebf8b29918e54003a23c1573e5bf368f\"  \n",
    "    url = f\"https://api.spoonacular.com/recipes/findByIngredients\"\n",
    "    \n",
    "    params = {\n",
    "        \"ingredients\": \",\".join(ingredients),\n",
    "        \"number\": 30, \n",
    "        \"apiKey\": api_key\n",
    "    }\n",
    "    \n",
    "    response = httpx.get(url, params=params)\n",
    "    if response.status_code != 200:\n",
    "        print(f\"Failed to fetch recipes. HTTP Status Code: {response.status_code}\")\n",
    "        return None\n",
    "    \n",
    "    recipes = response.json()\n",
    "    recipe_list = []\n",
    "    for recipe in recipes:\n",
    "        recipe_list.append({\n",
    "            \"Title\": recipe['title'],\n",
    "            \"Link\": f\"https://spoonacular.com/recipes/{recipe['title'].replace(' ', '-')}-{recipe['id']}\"\n",
    "        })\n",
    "    \n",
    "    return pd.DataFrame(recipe_list)\n",
    "\n",
    "\n",
    "ingredient_input = widgets.Text(\n",
    "    description='Ingredients:',\n",
    "    placeholder='e.g., chicken, rice, tomato',\n",
    "    layout=widgets.Layout(width='100%')\n",
    ")\n",
    "output = widgets.Output()\n",
    "\n",
    "def handle_input(change):\n",
    "    \"\"\"Process user input and display recipes.\"\"\"\n",
    "    user_input = change['new'].strip()\n",
    "    if not user_input:\n",
    "        return \n",
    "    \n",
    "    with output:\n",
    "        output.clear_output()  \n",
    "        ingredients = [ing.strip() for ing in user_input.split(',')]\n",
    "        recipes_df = fetch_recipes_from_api(ingredients)\n",
    "        \n",
    "        if recipes_df is None or recipes_df.empty:\n",
    "            display(HTML(\"<p style='color:red;'>No recipes found. Please try different ingredients.</p>\"))\n",
    "        else:\n",
    "            display(HTML(f\"<h3>Recipes for: <em>{', '.join(ingredients)}</em></h3>\"))\n",
    "            display(HTML(recipes_df.to_html(render_links=True, escape=False, classes='table table-bordered', index=False)))\n",
    "\n",
    "\n",
    "ingredient_input.observe(handle_input, names='value')\n",
    "\n",
    "\n",
    "display(HTML(\"<h1>Recipe Finder</h1>\"))\n",
    "display(VBox([ingredient_input, output]))\n",
    "\n"
   ]
  }
 ],
 "metadata": {
  "kernelspec": {
   "display_name": "Python 3 (ipykernel)",
   "language": "python",
   "name": "python3"
  },
  "language_info": {
   "codemirror_mode": {
    "name": "ipython",
    "version": 3
   },
   "file_extension": ".py",
   "mimetype": "text/x-python",
   "name": "python",
   "nbconvert_exporter": "python",
   "pygments_lexer": "ipython3",
   "version": "3.9.19"
  }
 },
 "nbformat": 4,
 "nbformat_minor": 5
}
